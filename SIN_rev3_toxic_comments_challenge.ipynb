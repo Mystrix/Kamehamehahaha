{
 "cells": [
  {
   "cell_type": "markdown",
   "metadata": {},
   "source": [
    "# Kaggle Toxic Comments Challenge"
   ]
  },
  {
   "cell_type": "code",
   "execution_count": 1,
   "metadata": {},
   "outputs": [
    {
     "name": "stderr",
     "output_type": "stream",
     "text": [
      "C:\\Users\\Rohith\\Anaconda3\\envs\\tf\\lib\\site-packages\\gensim\\utils.py:1212: UserWarning: detected Windows; aliasing chunkize to chunkize_serial\n",
      "  warnings.warn(\"detected Windows; aliasing chunkize to chunkize_serial\")\n",
      "Using TensorFlow backend.\n"
     ]
    }
   ],
   "source": [
    "import pandas as pd\n",
    "import numpy as np\n",
    "import gensim\n",
    "import keras\n",
    "from sklearn.feature_extraction.text import ENGLISH_STOP_WORDS"
   ]
  },
  {
   "cell_type": "code",
   "execution_count": 2,
   "metadata": {},
   "outputs": [],
   "source": [
    "%matplotlib inline"
   ]
  },
  {
   "cell_type": "markdown",
   "metadata": {},
   "source": [
    "## Data Loading"
   ]
  },
  {
   "cell_type": "code",
   "execution_count": 3,
   "metadata": {},
   "outputs": [],
   "source": [
    "df = pd.read_csv('data/train.csv')\n",
    "df_test = pd.read_csv('data/test.csv')"
   ]
  },
  {
   "cell_type": "code",
   "execution_count": 4,
   "metadata": {},
   "outputs": [
    {
     "data": {
      "text/html": [
       "<div>\n",
       "<style scoped>\n",
       "    .dataframe tbody tr th:only-of-type {\n",
       "        vertical-align: middle;\n",
       "    }\n",
       "\n",
       "    .dataframe tbody tr th {\n",
       "        vertical-align: top;\n",
       "    }\n",
       "\n",
       "    .dataframe thead th {\n",
       "        text-align: right;\n",
       "    }\n",
       "</style>\n",
       "<table border=\"1\" class=\"dataframe\">\n",
       "  <thead>\n",
       "    <tr style=\"text-align: right;\">\n",
       "      <th></th>\n",
       "      <th>comment_text</th>\n",
       "      <th>toxic</th>\n",
       "      <th>severe_toxic</th>\n",
       "      <th>obscene</th>\n",
       "      <th>threat</th>\n",
       "      <th>insult</th>\n",
       "      <th>identity_hate</th>\n",
       "      <th>age_category</th>\n",
       "    </tr>\n",
       "  </thead>\n",
       "  <tbody>\n",
       "    <tr>\n",
       "      <th>0</th>\n",
       "      <td>Explanation\\r\\nWhy the edits made under my use...</td>\n",
       "      <td>0</td>\n",
       "      <td>0</td>\n",
       "      <td>0</td>\n",
       "      <td>0</td>\n",
       "      <td>0</td>\n",
       "      <td>0</td>\n",
       "      <td>18-30</td>\n",
       "    </tr>\n",
       "    <tr>\n",
       "      <th>1</th>\n",
       "      <td>D'aww! He matches this background colour I'm s...</td>\n",
       "      <td>0</td>\n",
       "      <td>0</td>\n",
       "      <td>0</td>\n",
       "      <td>0</td>\n",
       "      <td>0</td>\n",
       "      <td>0</td>\n",
       "      <td>30-45</td>\n",
       "    </tr>\n",
       "    <tr>\n",
       "      <th>2</th>\n",
       "      <td>Hey man, I'm really not trying to edit war. It...</td>\n",
       "      <td>0</td>\n",
       "      <td>0</td>\n",
       "      <td>0</td>\n",
       "      <td>0</td>\n",
       "      <td>0</td>\n",
       "      <td>0</td>\n",
       "      <td>18-30</td>\n",
       "    </tr>\n",
       "    <tr>\n",
       "      <th>3</th>\n",
       "      <td>\"\\r\\nMore\\r\\nI can't make any real suggestions...</td>\n",
       "      <td>0</td>\n",
       "      <td>0</td>\n",
       "      <td>0</td>\n",
       "      <td>0</td>\n",
       "      <td>0</td>\n",
       "      <td>0</td>\n",
       "      <td>30-45</td>\n",
       "    </tr>\n",
       "    <tr>\n",
       "      <th>4</th>\n",
       "      <td>You, sir, are my hero. Any chance you remember...</td>\n",
       "      <td>0</td>\n",
       "      <td>0</td>\n",
       "      <td>0</td>\n",
       "      <td>0</td>\n",
       "      <td>0</td>\n",
       "      <td>0</td>\n",
       "      <td>30-45</td>\n",
       "    </tr>\n",
       "  </tbody>\n",
       "</table>\n",
       "</div>"
      ],
      "text/plain": [
       "                                        comment_text  toxic  severe_toxic  \\\n",
       "0  Explanation\\r\\nWhy the edits made under my use...      0             0   \n",
       "1  D'aww! He matches this background colour I'm s...      0             0   \n",
       "2  Hey man, I'm really not trying to edit war. It...      0             0   \n",
       "3  \"\\r\\nMore\\r\\nI can't make any real suggestions...      0             0   \n",
       "4  You, sir, are my hero. Any chance you remember...      0             0   \n",
       "\n",
       "   obscene  threat  insult  identity_hate age_category  \n",
       "0        0       0       0              0        18-30  \n",
       "1        0       0       0              0        30-45  \n",
       "2        0       0       0              0        18-30  \n",
       "3        0       0       0              0        30-45  \n",
       "4        0       0       0              0        30-45  "
      ]
     },
     "execution_count": 4,
     "metadata": {},
     "output_type": "execute_result"
    }
   ],
   "source": [
    "df.head()"
   ]
  },
  {
   "cell_type": "code",
   "execution_count": 5,
   "metadata": {},
   "outputs": [
    {
     "data": {
      "text/plain": [
       "id              0\n",
       "comment_text    0\n",
       "dtype: int64"
      ]
     },
     "execution_count": 5,
     "metadata": {},
     "output_type": "execute_result"
    }
   ],
   "source": [
    "df_test.isnull().sum()"
   ]
  },
  {
   "cell_type": "code",
   "execution_count": 6,
   "metadata": {},
   "outputs": [
    {
     "name": "stdout",
     "output_type": "stream",
     "text": [
      "<class 'pandas.core.frame.DataFrame'>\n",
      "RangeIndex: 159571 entries, 0 to 159570\n",
      "Data columns (total 8 columns):\n",
      "comment_text     159571 non-null object\n",
      "toxic            159571 non-null int64\n",
      "severe_toxic     159571 non-null int64\n",
      "obscene          159571 non-null int64\n",
      "threat           159571 non-null int64\n",
      "insult           159571 non-null int64\n",
      "identity_hate    159571 non-null int64\n",
      "age_category     159571 non-null object\n",
      "dtypes: int64(6), object(2)\n",
      "memory usage: 9.7+ MB\n"
     ]
    }
   ],
   "source": [
    "df.info()"
   ]
  },
  {
   "cell_type": "code",
   "execution_count": 7,
   "metadata": {},
   "outputs": [
    {
     "data": {
      "text/plain": [
       "18-30       86167\n",
       "30-45       55411\n",
       "45-60       13152\n",
       "Under 18     3509\n",
       "Over 60      1332\n",
       "Name: age_category, dtype: int64"
      ]
     },
     "execution_count": 7,
     "metadata": {},
     "output_type": "execute_result"
    }
   ],
   "source": [
    "df.age_category.value_counts()"
   ]
  },
  {
   "cell_type": "code",
   "execution_count": 8,
   "metadata": {},
   "outputs": [
    {
     "data": {
      "text/plain": [
       "18-30       53.999160\n",
       "30-45       34.724981\n",
       "45-60        8.242099\n",
       "Under 18     2.199021\n",
       "Over 60      0.834738\n",
       "Name: age_category, dtype: float64"
      ]
     },
     "execution_count": 8,
     "metadata": {},
     "output_type": "execute_result"
    }
   ],
   "source": [
    "df.age_category.value_counts()/len(df)*100"
   ]
  },
  {
   "cell_type": "code",
   "execution_count": 9,
   "metadata": {},
   "outputs": [
    {
     "data": {
      "text/plain": [
       "<matplotlib.axes._subplots.AxesSubplot at 0x19459a45438>"
      ]
     },
     "execution_count": 9,
     "metadata": {},
     "output_type": "execute_result"
    },
    {
     "data": {
      "image/png": "[encoded data removed]",
      "text/plain": [
       "<Figure size 432x288 with 1 Axes>"
      ]
     },
     "metadata": {
      "needs_background": "light"
     },
     "output_type": "display_data"
    }
   ],
   "source": [
    "from collections import Counter\n",
    "age_categories_list = list(df.age_category.values)\n",
    "age_counts = Counter(age_categories_list)\n",
    "age_plot_df = pd.DataFrame.from_dict(age_counts, orient='index')\n",
    "age_plot_df.plot(kind='bar')"
   ]
  },
  {
   "cell_type": "code",
   "execution_count": 10,
   "metadata": {},
   "outputs": [],
   "source": [
    "df.drop(['age_category'], axis = 1, inplace = True)"
   ]
  },
  {
   "cell_type": "markdown",
   "metadata": {},
   "source": [
    "## Preprocessing"
   ]
  },
  {
   "cell_type": "code",
   "execution_count": 11,
   "metadata": {},
   "outputs": [],
   "source": [
    "simple_tokens = df.comment_text.apply(gensim.utils.simple_preprocess)"
   ]
  },
  {
   "cell_type": "code",
   "execution_count": 12,
   "metadata": {},
   "outputs": [
    {
     "data": {
      "text/plain": [
       "0         [explanation, why, the, edits, made, under, my...\n",
       "1         [aww, he, matches, this, background, colour, s...\n",
       "2         [hey, man, really, not, trying, to, edit, war,...\n",
       "3         [more, can, make, any, real, suggestions, on, ...\n",
       "4         [you, sir, are, my, hero, any, chance, you, re...\n",
       "5         [congratulations, from, me, as, well, use, the...\n",
       "6         [cocksucker, before, you, piss, around, on, my...\n",
       "7         [your, vandalism, to, the, matt, shirvington, ...\n",
       "8         [sorry, if, the, word, nonsense, was, offensiv...\n",
       "9         [alignment, on, this, subject, and, which, are...\n",
       "10        [fair, use, rationale, for, image, wonju, jpg,...\n",
       "11        [bbq, be, man, and, lets, discuss, it, maybe, ...\n",
       "12        [hey, what, is, it, talk, what, is, it, an, ex...\n",
       "13        [before, you, start, throwing, accusations, an...\n",
       "14        [oh, and, the, girl, above, started, her, argu...\n",
       "15        [juelz, santanas, age, in, juelz, santana, was...\n",
       "16        [bye, don, look, come, or, think, of, comming,...\n",
       "17        [redirect, talk, voydan, pop, georgiev, cherno...\n",
       "18        [the, mitsurugi, point, made, no, sense, why, ...\n",
       "19        [don, mean, to, bother, you, see, that, you, r...\n",
       "20        [regarding, your, recent, edits, once, again, ...\n",
       "21        [good, to, know, about, me, yeah, studying, no...\n",
       "22        [snowflakes, are, not, always, symmetrical, un...\n",
       "23        [the, signpost, september, read, this, signpos...\n",
       "24        [re, considering, st, paragraph, edit, don, un...\n",
       "25        [radial, symmetry, several, now, extinct, line...\n",
       "26        [there, no, need, to, apologize, wikipedia, ar...\n",
       "27        [yes, because, the, mother, of, the, child, in...\n",
       "28        [ok, but, it, will, take, bit, of, work, but, ...\n",
       "29        [barnstar, for, you, the, real, life, barnstar...\n",
       "                                ...                        \n",
       "159541    [your, absurd, edits, your, absurd, edits, on,...\n",
       "159542    [maybe, he, got, better, things, to, do, than,...\n",
       "159543    [scrap, that, it, does, meet, criteria, and, i...\n",
       "159544                              [you, could, do, worse]\n",
       "159545    [march, utc, are, you, also, user, bmattson, w...\n",
       "159546    [hey, listen, don, you, ever, delete, my, edit...\n",
       "159547                       [thank, you, very, very, much]\n",
       "159548                                [talkback, september]\n",
       "159549                                           [utc, mar]\n",
       "159550    [agree, on, another, note, lil, wayne, is, tal...\n",
       "159551    [while, about, half, the, references, are, fro...\n",
       "159552    [prague, spring, think, that, prague, spring, ...\n",
       "159553    [see, this, as, having, been, merged, undoing,...\n",
       "159554    [and, going, to, keep, posting, the, stuff, de...\n",
       "159555    [how, come, when, you, download, that, mp, it,...\n",
       "159556    [ll, be, on, irc, too, if, you, have, more, sp...\n",
       "159557    [it, is, my, opinion, that, that, happens, to,...\n",
       "159558    [please, stop, removing, content, from, wikipe...\n",
       "159559    [image, barack, obama, mother, jpg, listed, fo...\n",
       "159560    [editing, of, article, without, consensus, rem...\n",
       "159561    [no, he, did, not, read, it, again, would, hav...\n",
       "159562    [auto, guides, and, the, motoring, press, are,...\n",
       "159563    [please, identify, what, part, of, blp, applie...\n",
       "159564    [catalan, independentism, is, the, social, mov...\n",
       "159565    [the, numbers, in, parentheses, are, the, addi...\n",
       "159566    [and, for, the, second, time, of, asking, when...\n",
       "159567    [you, should, be, ashamed, of, yourself, that,...\n",
       "159568    [spitzer, umm, theres, no, actual, article, fo...\n",
       "159569    [and, it, looks, like, it, was, actually, you,...\n",
       "159570    [and, really, don, think, you, understand, cam...\n",
       "Name: comment_text, Length: 159571, dtype: object"
      ]
     },
     "execution_count": 12,
     "metadata": {},
     "output_type": "execute_result"
    }
   ],
   "source": [
    "simple_tokens"
   ]
  },
  {
   "cell_type": "code",
   "execution_count": 13,
   "metadata": {},
   "outputs": [
    {
     "data": {
      "text/plain": [
       "159567    You should be ashamed of yourself \\r\\n\\r\\nThat...\n",
       "Name: comment_text, dtype: object"
      ]
     },
     "execution_count": 13,
     "metadata": {},
     "output_type": "execute_result"
    }
   ],
   "source": [
    "df[df.index==159567]['comment_text']"
   ]
  },
  {
   "cell_type": "code",
   "execution_count": 14,
   "metadata": {},
   "outputs": [],
   "source": [
    "phrases = gensim.models.phrases.Phrases(simple_tokens)\n",
    "tokenizer = gensim.models.phrases.Phraser(phrases)"
   ]
  },
  {
   "cell_type": "code",
   "execution_count": 15,
   "metadata": {},
   "outputs": [],
   "source": [
    "tokenized_text = list(tokenizer[simple_tokens]) # a 2D list of all the keywords from comment_text"
   ]
  },
  {
   "cell_type": "code",
   "execution_count": 16,
   "metadata": {},
   "outputs": [
    {
     "data": {
      "text/plain": [
       "['explanation',\n",
       " 'why',\n",
       " 'the',\n",
       " 'edits',\n",
       " 'made',\n",
       " 'under',\n",
       " 'my',\n",
       " 'username',\n",
       " 'hardcore',\n",
       " 'metallica',\n",
       " 'fan',\n",
       " 'were',\n",
       " 'reverted',\n",
       " 'they_weren',\n",
       " 'vandalisms',\n",
       " 'just',\n",
       " 'closure',\n",
       " 'on',\n",
       " 'some',\n",
       " 'gas',\n",
       " 'after',\n",
       " 'voted',\n",
       " 'at',\n",
       " 'new_york',\n",
       " 'dolls',\n",
       " 'fac',\n",
       " 'and',\n",
       " 'please',\n",
       " 'don',\n",
       " 'remove',\n",
       " 'the',\n",
       " 'template',\n",
       " 'from',\n",
       " 'the',\n",
       " 'talk_page',\n",
       " 'since',\n",
       " 'retired',\n",
       " 'now']"
      ]
     },
     "execution_count": 16,
     "metadata": {},
     "output_type": "execute_result"
    }
   ],
   "source": [
    "tokenized_text[0]"
   ]
  },
  {
   "cell_type": "code",
   "execution_count": 17,
   "metadata": {},
   "outputs": [],
   "source": [
    "corpus_dict = gensim.corpora.dictionary.Dictionary(tokenized_text)"
   ]
  },
  {
   "cell_type": "code",
   "execution_count": 18,
   "metadata": {},
   "outputs": [],
   "source": [
    "TARGET_CLASSES = df.columns[1:]"
   ]
  },
  {
   "cell_type": "code",
   "execution_count": 19,
   "metadata": {},
   "outputs": [
    {
     "data": {
      "text/plain": [
       "Index(['toxic', 'severe_toxic', 'obscene', 'threat', 'insult',\n",
       "       'identity_hate'],\n",
       "      dtype='object')"
      ]
     },
     "execution_count": 19,
     "metadata": {},
     "output_type": "execute_result"
    }
   ],
   "source": [
    "TARGET_CLASSES"
   ]
  },
  {
   "cell_type": "code",
   "execution_count": 20,
   "metadata": {},
   "outputs": [],
   "source": [
    "targets = df[TARGET_CLASSES].values"
   ]
  },
  {
   "cell_type": "markdown",
   "metadata": {},
   "source": [
    "## Analysis using seaborn"
   ]
  },
  {
   "cell_type": "code",
   "execution_count": 21,
   "metadata": {},
   "outputs": [],
   "source": [
    "import seaborn as sns\n",
    "import matplotlib.pyplot as plt"
   ]
  },
  {
   "cell_type": "code",
   "execution_count": 22,
   "metadata": {},
   "outputs": [
    {
     "data": {
      "text/plain": [
       "(0, 400)"
      ]
     },
     "execution_count": 22,
     "metadata": {},
     "output_type": "execute_result"
    },
    {
     "data": {
      "image/png": "[encoded data removed]",
      "text/plain": [
       "<Figure size 432x288 with 1 Axes>"
      ]
     },
     "metadata": {
      "needs_background": "light"
     },
     "output_type": "display_data"
    }
   ],
   "source": [
    "sns.distplot([len(doc) for doc in tokenized_text], bins=100, kde=False, label='Number of tokens per comment.')\n",
    "plt.xlabel(\"Tokens in a comment\")\n",
    "plt.ylabel(\"Frequency\")\n",
    "plt.xlim((0, 400))"
   ]
  },
  {
   "cell_type": "markdown",
   "metadata": {},
   "source": [
    "## Training word2vec on comment data"
   ]
  },
  {
   "cell_type": "code",
   "execution_count": 23,
   "metadata": {},
   "outputs": [],
   "source": [
    "word2vec = gensim.models.word2vec.Word2Vec(tokenized_text, window=5, size=100, min_count=2, workers=6)"
   ]
  },
  {
   "cell_type": "code",
   "execution_count": 24,
   "metadata": {},
   "outputs": [
    {
     "name": "stderr",
     "output_type": "stream",
     "text": [
      "C:\\Users\\Rohith\\Anaconda3\\envs\\tf\\lib\\site-packages\\gensim\\matutils.py:737: FutureWarning: Conversion of the second argument of issubdtype from `int` to `np.signedinteger` is deprecated. In future, it will be treated as `np.int32 == np.dtype(int).type`.\n",
      "  if np.issubdtype(vec.dtype, np.int):\n"
     ]
    },
    {
     "data": {
      "text/plain": [
       "[('strength', 0.7849506735801697),\n",
       " ('leadership', 0.7714779376983643),\n",
       " ('vision', 0.7712383270263672),\n",
       " ('recognition', 0.771166205406189),\n",
       " ('notoriety', 0.770218014717102),\n",
       " ('principal', 0.7668126225471497),\n",
       " ('membership', 0.7595211267471313),\n",
       " ('influence', 0.757525622844696),\n",
       " ('discovery', 0.7559966444969177),\n",
       " ('his_career', 0.7531882524490356)]"
      ]
     },
     "execution_count": 24,
     "metadata": {},
     "output_type": "execute_result"
    }
   ],
   "source": [
    "word2vec.wv.most_similar('popularity')"
   ]
  },
  {
   "cell_type": "code",
   "execution_count": 25,
   "metadata": {
    "scrolled": true
   },
   "outputs": [
    {
     "name": "stderr",
     "output_type": "stream",
     "text": [
      "C:\\Users\\Rohith\\Anaconda3\\envs\\tf\\lib\\site-packages\\gensim\\matutils.py:737: FutureWarning: Conversion of the second argument of issubdtype from `int` to `np.signedinteger` is deprecated. In future, it will be treated as `np.int32 == np.dtype(int).type`.\n",
      "  if np.issubdtype(vec.dtype, np.int):\n"
     ]
    },
    {
     "data": {
      "text/plain": [
       "[('asshole', 0.8100345134735107),\n",
       " ('loser', 0.8065991401672363),\n",
       " ('dude', 0.7971583604812622),\n",
       " ('prick', 0.791121780872345),\n",
       " ('faggot', 0.7889803051948547),\n",
       " ('fuckin', 0.7781703472137451),\n",
       " ('cunt', 0.7775804996490479),\n",
       " ('fucking', 0.7744321227073669),\n",
       " ('bastard', 0.7700861692428589),\n",
       " ('retard', 0.7645168304443359)]"
      ]
     },
     "execution_count": 25,
     "metadata": {},
     "output_type": "execute_result"
    }
   ],
   "source": [
    "word2vec.wv.most_similar('idiot')"
   ]
  },
  {
   "cell_type": "markdown",
   "metadata": {},
   "source": [
    "## word2vec-based model."
   ]
  },
  {
   "cell_type": "code",
   "execution_count": 26,
   "metadata": {},
   "outputs": [],
   "source": [
    "features = np.zeros((len(tokenized_text), word2vec.vector_size))\n",
    "for i, tokens in enumerate(tokenized_text):\n",
    "    tokens = [t for t in tokens if t in word2vec.wv.vocab]\n",
    "    if tokens:\n",
    "        features[i, :] = np.mean([word2vec.wv[t] / word2vec.wv.vocab[t].count for t in tokens], axis=0)"
   ]
  },
  {
   "cell_type": "code",
   "execution_count": 27,
   "metadata": {},
   "outputs": [],
   "source": [
    "from keras.models import Sequential\n",
    "from keras.layers import Dense\n",
    "from keras.optimizers import Adam\n",
    "\n",
    "model = Sequential()\n",
    "model.add(Dense(256, activation='relu', input_shape=(word2vec.vector_size,)))\n",
    "model.add(Dense(128, activation='relu'))\n",
    "model.add(Dense(len(TARGET_CLASSES), activation='sigmoid'))\n",
    "model.compile(optimizer=Adam(lr=0.001), loss='binary_crossentropy', metrics=['accuracy'])"
   ]
  },
  {
   "cell_type": "code",
   "execution_count": 28,
   "metadata": {},
   "outputs": [
    {
     "name": "stdout",
     "output_type": "stream",
     "text": [
      "Train on 143613 samples, validate on 15958 samples\n",
      "Epoch 1/10\n",
      "143613/143613 [==============================] - 7s 51us/step - loss: 0.0965 - acc: 0.9685 - val_loss: 0.0828 - val_acc: 0.9698\n",
      "Epoch 2/10\n",
      "143613/143613 [==============================] - 7s 49us/step - loss: 0.0800 - acc: 0.9711 - val_loss: 0.0801 - val_acc: 0.9705\n",
      "Epoch 3/10\n",
      "143613/143613 [==============================] - 7s 46us/step - loss: 0.0787 - acc: 0.9718 - val_loss: 0.0799 - val_acc: 0.9705\n",
      "Epoch 4/10\n",
      "143613/143613 [==============================] - 7s 51us/step - loss: 0.0776 - acc: 0.9720 - val_loss: 0.0790 - val_acc: 0.9706\n",
      "Epoch 5/10\n",
      "143613/143613 [==============================] - 10s 68us/step - loss: 0.0765 - acc: 0.9724 - val_loss: 0.0776 - val_acc: 0.9712\n",
      "Epoch 6/10\n",
      "143613/143613 [==============================] - 7s 50us/step - loss: 0.0759 - acc: 0.9728 - val_loss: 0.0763 - val_acc: 0.9717\n",
      "Epoch 7/10\n",
      "143613/143613 [==============================] - 7s 50us/step - loss: 0.0748 - acc: 0.9731 - val_loss: 0.0760 - val_acc: 0.9720\n",
      "Epoch 8/10\n",
      "143613/143613 [==============================] - 9s 62us/step - loss: 0.0742 - acc: 0.9733 - val_loss: 0.0764 - val_acc: 0.9721\n",
      "Epoch 9/10\n",
      "143613/143613 [==============================] - 7s 52us/step - loss: 0.0737 - acc: 0.9736 - val_loss: 0.0772 - val_acc: 0.9721\n",
      "Epoch 10/10\n",
      "143613/143613 [==============================] - 9s 61us/step - loss: 0.0733 - acc: 0.9737 - val_loss: 0.0779 - val_acc: 0.9718\n"
     ]
    },
    {
     "data": {
      "text/plain": [
       "<keras.callbacks.History at 0x19446818cc0>"
      ]
     },
     "execution_count": 28,
     "metadata": {},
     "output_type": "execute_result"
    }
   ],
   "source": [
    "model.fit(features, targets, epochs=10, validation_split=0.1)"
   ]
  },
  {
   "cell_type": "code",
   "execution_count": 29,
   "metadata": {},
   "outputs": [
    {
     "name": "stdout",
     "output_type": "stream",
     "text": [
      "Saved model to disk\n"
     ]
    }
   ],
   "source": [
    "# serialize model to YAML\n",
    "model_yaml = model.to_yaml()\n",
    "with open(\"model-baseline.yaml\", \"w\") as yaml_file:\n",
    "    yaml_file.write(model_yaml)\n",
    "    \n",
    "# serialize model to JSON\n",
    "model_json = model.to_json()\n",
    "with open(\"model-baseline.json\", \"w\") as json_file:\n",
    "    json_file.write(model_json)\n",
    "\n",
    "# serialize weights to HDF5\n",
    "model.save_weights(\"model-baseline.h5\")\n",
    "print(\"Saved model to disk\")"
   ]
  },
  {
   "cell_type": "markdown",
   "metadata": {},
   "source": [
    "## Sequential models"
   ]
  },
  {
   "cell_type": "code",
   "execution_count": 30,
   "metadata": {},
   "outputs": [],
   "source": [
    "# Note: shifting indices by 1 as index 0 will be used for padding.\n",
    "docs = [[idx + 1 for idx in corpus_dict.doc2idx(doc)]  for doc in tokenized_text]"
   ]
  },
  {
   "cell_type": "code",
   "execution_count": 31,
   "metadata": {},
   "outputs": [],
   "source": [
    "MAX_SEQ_LEN = 50\n",
    "padded_docs = keras.preprocessing.sequence.pad_sequences(docs, maxlen=MAX_SEQ_LEN, truncating='post', value=0)"
   ]
  },
  {
   "cell_type": "code",
   "execution_count": 32,
   "metadata": {
    "scrolled": true
   },
   "outputs": [
    {
     "data": {
      "text/plain": [
       "185872"
      ]
     },
     "execution_count": 32,
     "metadata": {},
     "output_type": "execute_result"
    }
   ],
   "source": [
    "max_idx = max(c for d in docs for c in d)\n",
    "max_idx"
   ]
  },
  {
   "cell_type": "code",
   "execution_count": 33,
   "metadata": {},
   "outputs": [],
   "source": [
    "embeddings = np.array([np.random.normal(size=word2vec.vector_size)]+ # for the '0' padding word\n",
    "                      [word2vec.wv[corpus_dict[idx]]\n",
    "                      if corpus_dict[idx] in word2vec.wv.vocab\n",
    "                      else np.random.normal(size=word2vec.vector_size)\n",
    "                      for idx in range(max_idx)])"
   ]
  },
  {
   "cell_type": "markdown",
   "metadata": {},
   "source": [
    "### CNN"
   ]
  },
  {
   "cell_type": "code",
   "execution_count": 34,
   "metadata": {},
   "outputs": [],
   "source": [
    "from keras.models import Sequential\n",
    "from keras.layers.embeddings import Embedding\n",
    "from keras.layers.recurrent import SimpleRNN\n",
    "from keras.layers.core import Dense, Dropout\n",
    "from keras.layers.wrappers import TimeDistributed\n",
    "from keras.layers import Convolution1D, MaxPool1D, Flatten, BatchNormalization\n",
    "\n",
    "model = Sequential()\n",
    "model.add(Embedding(max_idx + 1, word2vec.vector_size, input_length=MAX_SEQ_LEN))\n",
    "model.add(Dropout(0.5))\n",
    "model.add(BatchNormalization())\n",
    "model.add(Convolution1D(52, 5, padding='same',\n",
    "                        kernel_regularizer=keras.regularizers.l2(0.01)))\n",
    "model.add(MaxPool1D())\n",
    "model.add(Dropout(0.5))\n",
    "model.add(BatchNormalization())\n",
    "model.add(Convolution1D(128, 3, padding='same',\n",
    "                        kernel_regularizer=keras.regularizers.l2(0.01)))\n",
    "model.add(MaxPool1D())\n",
    "model.add(Flatten())\n",
    "model.add(Dense(len(TARGET_CLASSES), activation='sigmoid',\n",
    "                kernel_regularizer=keras.regularizers.l2(0.02)))\n",
    "model.compile(Adam(0.001), 'binary_crossentropy')"
   ]
  },
  {
   "cell_type": "code",
   "execution_count": 35,
   "metadata": {},
   "outputs": [
    {
     "name": "stdout",
     "output_type": "stream",
     "text": [
      "Train on 143613 samples, validate on 15958 samples\n",
      "Epoch 1/20\n",
      "143613/143613 [==============================] - 154s 1ms/step - loss: 0.3911 - val_loss: 0.1212\n",
      "Epoch 2/20\n",
      "143613/143613 [==============================] - 182s 1ms/step - loss: 0.0916 - val_loss: 0.0946\n",
      "Epoch 3/20\n",
      "143613/143613 [==============================] - 187s 1ms/step - loss: 0.0782 - val_loss: 0.0888\n",
      "Epoch 4/20\n",
      "143613/143613 [==============================] - 186s 1ms/step - loss: 0.0706 - val_loss: 0.0887\n",
      "Epoch 5/20\n",
      "143613/143613 [==============================] - 186s 1ms/step - loss: 0.0658 - val_loss: 0.0850\n",
      "Epoch 6/20\n",
      "143613/143613 [==============================] - 186s 1ms/step - loss: 0.0625 - val_loss: 0.0910\n",
      "Epoch 7/20\n",
      "143613/143613 [==============================] - 1326s 9ms/step - loss: 0.0599 - val_loss: 0.0872\n",
      "Epoch 8/20\n",
      "143613/143613 [==============================] - 145s 1ms/step - loss: 0.0581 - val_loss: 0.0878\n",
      "Epoch 9/20\n",
      "143613/143613 [==============================] - 148s 1ms/step - loss: 0.0559 - val_loss: 0.0868\n",
      "Epoch 10/20\n",
      "143613/143613 [==============================] - 150s 1ms/step - loss: 0.0553 - val_loss: 0.0900\n",
      "Epoch 11/20\n",
      "143613/143613 [==============================] - 158s 1ms/step - loss: 0.0541 - val_loss: 0.0894\n",
      "Epoch 12/20\n",
      "143613/143613 [==============================] - 158s 1ms/step - loss: 0.0528 - val_loss: 0.0866\n",
      "Epoch 13/20\n",
      "143613/143613 [==============================] - 156s 1ms/step - loss: 0.0519 - val_loss: 0.0884\n",
      "Epoch 14/20\n",
      "143613/143613 [==============================] - 153s 1ms/step - loss: 0.0510 - val_loss: 0.0945\n",
      "Epoch 15/20\n",
      "143613/143613 [==============================] - 158s 1ms/step - loss: 0.0502 - val_loss: 0.0882\n",
      "Epoch 16/20\n",
      "143613/143613 [==============================] - 156s 1ms/step - loss: 0.0502 - val_loss: 0.0867\n",
      "Epoch 17/20\n",
      "143613/143613 [==============================] - 159s 1ms/step - loss: 0.0489 - val_loss: 0.0913\n",
      "Epoch 18/20\n",
      "143613/143613 [==============================] - 160s 1ms/step - loss: 0.0485 - val_loss: 0.0917\n",
      "Epoch 19/20\n",
      "143613/143613 [==============================] - 162s 1ms/step - loss: 0.0478 - val_loss: 0.0881\n",
      "Epoch 20/20\n",
      "143613/143613 [==============================] - 161s 1ms/step - loss: 0.0475 - val_loss: 0.0880\n"
     ]
    },
    {
     "data": {
      "text/plain": [
       "<keras.callbacks.History at 0x19446040470>"
      ]
     },
     "execution_count": 35,
     "metadata": {},
     "output_type": "execute_result"
    }
   ],
   "source": [
    "model.fit(padded_docs, targets, batch_size=512, epochs=20, validation_split=0.1)"
   ]
  },
  {
   "cell_type": "code",
   "execution_count": 36,
   "metadata": {},
   "outputs": [
    {
     "name": "stdout",
     "output_type": "stream",
     "text": [
      "Saved model to disk\n"
     ]
    }
   ],
   "source": [
    "# serialize model to YAML\n",
    "model_yaml = model.to_yaml()\n",
    "with open(\"model-cnn.yaml\", \"w\") as yaml_file:\n",
    "    yaml_file.write(model_yaml)\n",
    "    \n",
    "# serialize model to JSON\n",
    "model_json = model.to_json()\n",
    "with open(\"model-cnn.json\", \"w\") as json_file:\n",
    "    json_file.write(model_json)\n",
    "\n",
    "# serialize weights to HDF5\n",
    "model.save_weights(\"model-cnn.h5\")\n",
    "print(\"Saved model to disk\")"
   ]
  },
  {
   "cell_type": "markdown",
   "metadata": {},
   "source": [
    "## Submission"
   ]
  },
  {
   "cell_type": "code",
   "execution_count": 37,
   "metadata": {},
   "outputs": [],
   "source": [
    "def comment_to_sequential_input(comment):\n",
    "    tokens = tokenizer[gensim.utils.simple_preprocess(comment)]\n",
    "    t_ids = [corpus_dict.token2id[t] + 1 for t in tokens if t in word2vec.wv.vocab and t in corpus_dict.token2id]\n",
    "    return keras.preprocessing.sequence.pad_sequences([t_ids], maxlen=MAX_SEQ_LEN)[0]"
   ]
  },
  {
   "cell_type": "code",
   "execution_count": 38,
   "metadata": {},
   "outputs": [
    {
     "name": "stdout",
     "output_type": "stream",
     "text": [
      "toxic: 99.40%\n",
      "severe_toxic: 6.71%\n",
      "obscene: 80.70%\n",
      "threat: 1.55%\n",
      "insult: 76.78%\n",
      "identity_hate: 8.84%\n"
     ]
    }
   ],
   "source": [
    "test_input = [comment_to_sequential_input(\"You are a jerk you freakin indian.\").reshape(1, -1)]\n",
    "for target_class, score in zip(TARGET_CLASSES, model.predict(test_input)[0]):\n",
    "    print(\"{}: {:.2f}%\".format(target_class, score * 100))"
   ]
  },
  {
   "cell_type": "code",
   "execution_count": 39,
   "metadata": {},
   "outputs": [],
   "source": [
    "test_inputs = np.array([comment_to_sequential_input(doc) for doc in df_test.comment_text])"
   ]
  },
  {
   "cell_type": "code",
   "execution_count": 40,
   "metadata": {},
   "outputs": [],
   "source": [
    "test_outputs = model.predict(test_inputs)"
   ]
  },
  {
   "cell_type": "code",
   "execution_count": 41,
   "metadata": {},
   "outputs": [
    {
     "data": {
      "text/plain": [
       "array([0.99999714, 0.03321979, 0.98999983, 0.00913987, 0.928628  ,\n",
       "       0.03630313], dtype=float32)"
      ]
     },
     "execution_count": 41,
     "metadata": {},
     "output_type": "execute_result"
    }
   ],
   "source": [
    "test_outputs[0]"
   ]
  },
  {
   "cell_type": "code",
   "execution_count": 42,
   "metadata": {},
   "outputs": [],
   "source": [
    "output_df = df_test.reset_index()[['id']].copy()"
   ]
  },
  {
   "cell_type": "code",
   "execution_count": 43,
   "metadata": {},
   "outputs": [],
   "source": [
    "for i, target_class in enumerate(TARGET_CLASSES):\n",
    "    output_df[target_class] = test_outputs[:, i]"
   ]
  },
  {
   "cell_type": "code",
   "execution_count": 44,
   "metadata": {},
   "outputs": [
    {
     "data": {
      "text/html": [
       "<div>\n",
       "<style scoped>\n",
       "    .dataframe tbody tr th:only-of-type {\n",
       "        vertical-align: middle;\n",
       "    }\n",
       "\n",
       "    .dataframe tbody tr th {\n",
       "        vertical-align: top;\n",
       "    }\n",
       "\n",
       "    .dataframe thead th {\n",
       "        text-align: right;\n",
       "    }\n",
       "</style>\n",
       "<table border=\"1\" class=\"dataframe\">\n",
       "  <thead>\n",
       "    <tr style=\"text-align: right;\">\n",
       "      <th></th>\n",
       "      <th>id</th>\n",
       "      <th>toxic</th>\n",
       "      <th>severe_toxic</th>\n",
       "      <th>obscene</th>\n",
       "      <th>threat</th>\n",
       "      <th>insult</th>\n",
       "      <th>identity_hate</th>\n",
       "      <th>index</th>\n",
       "      <th>comment_text</th>\n",
       "    </tr>\n",
       "  </thead>\n",
       "  <tbody>\n",
       "    <tr>\n",
       "      <th>0</th>\n",
       "      <td>abeb868a79410461</td>\n",
       "      <td>0.801577</td>\n",
       "      <td>0.009731</td>\n",
       "      <td>0.175360</td>\n",
       "      <td>0.006620</td>\n",
       "      <td>0.222494</td>\n",
       "      <td>0.009965</td>\n",
       "      <td>102988</td>\n",
       "      <td>* Oh, the creator herself was stupid enough to...</td>\n",
       "    </tr>\n",
       "    <tr>\n",
       "      <th>1</th>\n",
       "      <td>14bad05113468aba</td>\n",
       "      <td>0.707484</td>\n",
       "      <td>0.019307</td>\n",
       "      <td>0.207823</td>\n",
       "      <td>0.009630</td>\n",
       "      <td>0.258109</td>\n",
       "      <td>0.031859</td>\n",
       "      <td>12335</td>\n",
       "      <td>== Dude == \\n\\n Have you ever had sex?</td>\n",
       "    </tr>\n",
       "    <tr>\n",
       "      <th>2</th>\n",
       "      <td>e3515d8da7493752</td>\n",
       "      <td>0.638946</td>\n",
       "      <td>0.011853</td>\n",
       "      <td>0.199274</td>\n",
       "      <td>0.005012</td>\n",
       "      <td>0.155798</td>\n",
       "      <td>0.011648</td>\n",
       "      <td>136023</td>\n",
       "      <td>Penis is good for cend</td>\n",
       "    </tr>\n",
       "    <tr>\n",
       "      <th>3</th>\n",
       "      <td>f0a8c4a8253f61ea</td>\n",
       "      <td>0.794940</td>\n",
       "      <td>0.016002</td>\n",
       "      <td>0.359394</td>\n",
       "      <td>0.004645</td>\n",
       "      <td>0.255602</td>\n",
       "      <td>0.013601</td>\n",
       "      <td>144006</td>\n",
       "      <td>kanye west sucks cock</td>\n",
       "    </tr>\n",
       "    <tr>\n",
       "      <th>4</th>\n",
       "      <td>ae2602a322deb90a</td>\n",
       "      <td>0.733882</td>\n",
       "      <td>0.019682</td>\n",
       "      <td>0.238398</td>\n",
       "      <td>0.008633</td>\n",
       "      <td>0.276446</td>\n",
       "      <td>0.030002</td>\n",
       "      <td>104334</td>\n",
       "      <td>stuff you monkey nuts</td>\n",
       "    </tr>\n",
       "    <tr>\n",
       "      <th>5</th>\n",
       "      <td>9abf88053c9b0af1</td>\n",
       "      <td>0.652923</td>\n",
       "      <td>0.014508</td>\n",
       "      <td>0.198344</td>\n",
       "      <td>0.007858</td>\n",
       "      <td>0.205681</td>\n",
       "      <td>0.018454</td>\n",
       "      <td>92787</td>\n",
       "      <td>You are a very annoying person and apparently ...</td>\n",
       "    </tr>\n",
       "    <tr>\n",
       "      <th>6</th>\n",
       "      <td>140a297f5853e660</td>\n",
       "      <td>0.565796</td>\n",
       "      <td>0.013310</td>\n",
       "      <td>0.173478</td>\n",
       "      <td>0.005852</td>\n",
       "      <td>0.176104</td>\n",
       "      <td>0.016549</td>\n",
       "      <td>11948</td>\n",
       "      <td>how do people get fucked</td>\n",
       "    </tr>\n",
       "    <tr>\n",
       "      <th>7</th>\n",
       "      <td>ba19606d4db1eba0</td>\n",
       "      <td>0.551273</td>\n",
       "      <td>0.003685</td>\n",
       "      <td>0.060336</td>\n",
       "      <td>0.004220</td>\n",
       "      <td>0.155822</td>\n",
       "      <td>0.007587</td>\n",
       "      <td>111527</td>\n",
       "      <td>\"  \\n :Never mind, fixed it. It was just a spa...</td>\n",
       "    </tr>\n",
       "    <tr>\n",
       "      <th>8</th>\n",
       "      <td>2662d1682b2b04c6</td>\n",
       "      <td>0.821322</td>\n",
       "      <td>0.010001</td>\n",
       "      <td>0.132449</td>\n",
       "      <td>0.007883</td>\n",
       "      <td>0.327681</td>\n",
       "      <td>0.017729</td>\n",
       "      <td>23000</td>\n",
       "      <td>Just returned to this after leaving a thank-yo...</td>\n",
       "    </tr>\n",
       "    <tr>\n",
       "      <th>9</th>\n",
       "      <td>04e46719a597511f</td>\n",
       "      <td>0.673258</td>\n",
       "      <td>0.014658</td>\n",
       "      <td>0.236969</td>\n",
       "      <td>0.005376</td>\n",
       "      <td>0.211732</td>\n",
       "      <td>0.016085</td>\n",
       "      <td>2826</td>\n",
       "      <td>\"Removed \"\"she was also a whore.\"\"  Kthompson ...</td>\n",
       "    </tr>\n",
       "  </tbody>\n",
       "</table>\n",
       "</div>"
      ],
      "text/plain": [
       "                 id     toxic  severe_toxic   obscene    threat    insult  \\\n",
       "0  abeb868a79410461  0.801577      0.009731  0.175360  0.006620  0.222494   \n",
       "1  14bad05113468aba  0.707484      0.019307  0.207823  0.009630  0.258109   \n",
       "2  e3515d8da7493752  0.638946      0.011853  0.199274  0.005012  0.155798   \n",
       "3  f0a8c4a8253f61ea  0.794940      0.016002  0.359394  0.004645  0.255602   \n",
       "4  ae2602a322deb90a  0.733882      0.019682  0.238398  0.008633  0.276446   \n",
       "5  9abf88053c9b0af1  0.652923      0.014508  0.198344  0.007858  0.205681   \n",
       "6  140a297f5853e660  0.565796      0.013310  0.173478  0.005852  0.176104   \n",
       "7  ba19606d4db1eba0  0.551273      0.003685  0.060336  0.004220  0.155822   \n",
       "8  2662d1682b2b04c6  0.821322      0.010001  0.132449  0.007883  0.327681   \n",
       "9  04e46719a597511f  0.673258      0.014658  0.236969  0.005376  0.211732   \n",
       "\n",
       "   identity_hate   index                                       comment_text  \n",
       "0       0.009965  102988  * Oh, the creator herself was stupid enough to...  \n",
       "1       0.031859   12335             == Dude == \\n\\n Have you ever had sex?  \n",
       "2       0.011648  136023                             Penis is good for cend  \n",
       "3       0.013601  144006                              kanye west sucks cock  \n",
       "4       0.030002  104334                              stuff you monkey nuts  \n",
       "5       0.018454   92787  You are a very annoying person and apparently ...  \n",
       "6       0.016549   11948                           how do people get fucked  \n",
       "7       0.007587  111527  \"  \\n :Never mind, fixed it. It was just a spa...  \n",
       "8       0.017729   23000  Just returned to this after leaving a thank-yo...  \n",
       "9       0.016085    2826  \"Removed \"\"she was also a whore.\"\"  Kthompson ...  "
      ]
     },
     "execution_count": 44,
     "metadata": {},
     "output_type": "execute_result"
    }
   ],
   "source": [
    "output_df[output_df.toxic > 0.5].sample(10, random_state=0).merge(df_test.reset_index(), on='id')"
   ]
  },
  {
   "cell_type": "code",
   "execution_count": 45,
   "metadata": {},
   "outputs": [],
   "source": [
    "output_df.to_csv('cnn-pred.csv', index=False)"
   ]
  },
  {
   "cell_type": "code",
   "execution_count": 61,
   "metadata": {},
   "outputs": [
    {
     "name": "stdout",
     "output_type": "stream",
     "text": [
      "toxic: 97.68%\n",
      "severe_toxic: 4.65%\n",
      "obscene: 68.12%\n",
      "threat: 1.10%\n",
      "insult: 65.13%\n",
      "identity_hate: 6.02%\n"
     ]
    }
   ],
   "source": [
    "test_input = [comment_to_sequential_input(\"You should die, bastard\").reshape(1, -1)]\n",
    "for target_class, score in zip(TARGET_CLASSES, model.predict(test_input)[0]):\n",
    "    print(\"{}: {:.2f}%\".format(target_class, score * 100))"
   ]
  },
  {
   "cell_type": "code",
   "execution_count": null,
   "metadata": {},
   "outputs": [],
   "source": [
    "test_input = [comment_to_sequential_input(\"You should die, bastard\").reshape(1, -1)]\n",
    "for target_class, score in zip(TARGET_CLASSES, model.predict(test_input)[0]):\n",
    "    print(\"{}: {:.2f}%\".format(target_class, score * 100))"
   ]
  }
 ],
 "metadata": {
  "kernelspec": {
   "display_name": "Python 3",
   "language": "python",
   "name": "python3"
  },
  "language_info": {
   "codemirror_mode": {
    "name": "ipython",
    "version": 3
   },
   "file_extension": ".py",
   "mimetype": "text/x-python",
   "name": "python",
   "nbconvert_exporter": "python",
   "pygments_lexer": "ipython3",
   "version": "3.6.6"
  }
 },
 "nbformat": 4,
 "nbformat_minor": 2
}
